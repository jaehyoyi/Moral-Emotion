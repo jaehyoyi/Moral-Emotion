{
 "cells": [
  {
   "cell_type": "code",
   "execution_count": null,
   "metadata": {},
   "outputs": [],
   "source": [
    "#Try with KOME_BERT s"
   ]
  },
  {
   "cell_type": "code",
   "execution_count": 1,
   "metadata": {},
   "outputs": [
    {
     "name": "stdout",
     "output_type": "stream",
     "text": [
      "Collecting transformers\n",
      "  Obtaining dependency information for transformers from https://files.pythonhosted.org/packages/ad/ff/b3e311e58b9c90b149fb957953b228287d7c9fe78df9a3a72e8715c5fc56/transformers-4.43.3-py3-none-any.whl.metadata\n",
      "  Using cached transformers-4.43.3-py3-none-any.whl.metadata (43 kB)\n",
      "Requirement already satisfied: torch in /Users/jaehyoyi/anaconda3/lib/python3.11/site-packages (2.4.0)\n",
      "Requirement already satisfied: pandas in /Users/jaehyoyi/anaconda3/lib/python3.11/site-packages (2.2.2)\n",
      "Requirement already satisfied: filelock in /Users/jaehyoyi/anaconda3/lib/python3.11/site-packages (from transformers) (3.9.0)\n",
      "Requirement already satisfied: huggingface-hub<1.0,>=0.23.2 in /Users/jaehyoyi/anaconda3/lib/python3.11/site-packages (from transformers) (0.24.3)\n",
      "Requirement already satisfied: numpy>=1.17 in /Users/jaehyoyi/anaconda3/lib/python3.11/site-packages (from transformers) (1.24.3)\n",
      "Requirement already satisfied: packaging>=20.0 in /Users/jaehyoyi/anaconda3/lib/python3.11/site-packages (from transformers) (23.0)\n",
      "Requirement already satisfied: pyyaml>=5.1 in /Users/jaehyoyi/anaconda3/lib/python3.11/site-packages (from transformers) (6.0)\n",
      "Requirement already satisfied: regex!=2019.12.17 in /Users/jaehyoyi/anaconda3/lib/python3.11/site-packages (from transformers) (2022.7.9)\n",
      "Requirement already satisfied: requests in /Users/jaehyoyi/anaconda3/lib/python3.11/site-packages (from transformers) (2.31.0)\n",
      "Requirement already satisfied: safetensors>=0.4.1 in /Users/jaehyoyi/anaconda3/lib/python3.11/site-packages (from transformers) (0.4.3)\n",
      "Requirement already satisfied: tokenizers<0.20,>=0.19 in /Users/jaehyoyi/anaconda3/lib/python3.11/site-packages (from transformers) (0.19.1)\n",
      "Requirement already satisfied: tqdm>=4.27 in /Users/jaehyoyi/anaconda3/lib/python3.11/site-packages (from transformers) (4.65.0)\n",
      "Requirement already satisfied: typing-extensions>=4.8.0 in /Users/jaehyoyi/anaconda3/lib/python3.11/site-packages (from torch) (4.12.2)\n",
      "Requirement already satisfied: sympy in /Users/jaehyoyi/anaconda3/lib/python3.11/site-packages (from torch) (1.11.1)\n",
      "Requirement already satisfied: networkx in /Users/jaehyoyi/anaconda3/lib/python3.11/site-packages (from torch) (3.1)\n",
      "Requirement already satisfied: jinja2 in /Users/jaehyoyi/anaconda3/lib/python3.11/site-packages (from torch) (3.1.2)\n",
      "Requirement already satisfied: fsspec in /Users/jaehyoyi/anaconda3/lib/python3.11/site-packages (from torch) (2024.6.1)\n",
      "Requirement already satisfied: python-dateutil>=2.8.2 in /Users/jaehyoyi/anaconda3/lib/python3.11/site-packages (from pandas) (2.8.2)\n",
      "Requirement already satisfied: pytz>=2020.1 in /Users/jaehyoyi/anaconda3/lib/python3.11/site-packages (from pandas) (2022.7)\n",
      "Requirement already satisfied: tzdata>=2022.7 in /Users/jaehyoyi/anaconda3/lib/python3.11/site-packages (from pandas) (2024.1)\n",
      "Requirement already satisfied: six>=1.5 in /Users/jaehyoyi/anaconda3/lib/python3.11/site-packages (from python-dateutil>=2.8.2->pandas) (1.16.0)\n",
      "Requirement already satisfied: MarkupSafe>=2.0 in /Users/jaehyoyi/anaconda3/lib/python3.11/site-packages (from jinja2->torch) (2.1.1)\n",
      "Requirement already satisfied: charset-normalizer<4,>=2 in /Users/jaehyoyi/anaconda3/lib/python3.11/site-packages (from requests->transformers) (2.0.4)\n",
      "Requirement already satisfied: idna<4,>=2.5 in /Users/jaehyoyi/anaconda3/lib/python3.11/site-packages (from requests->transformers) (3.4)\n",
      "Requirement already satisfied: urllib3<3,>=1.21.1 in /Users/jaehyoyi/anaconda3/lib/python3.11/site-packages (from requests->transformers) (1.26.16)\n",
      "Requirement already satisfied: certifi>=2017.4.17 in /Users/jaehyoyi/anaconda3/lib/python3.11/site-packages (from requests->transformers) (2023.7.22)\n",
      "Requirement already satisfied: mpmath>=0.19 in /Users/jaehyoyi/anaconda3/lib/python3.11/site-packages (from sympy->torch) (1.3.0)\n",
      "Using cached transformers-4.43.3-py3-none-any.whl (9.4 MB)\n",
      "Installing collected packages: transformers\n",
      "Successfully installed transformers-4.43.3\n",
      "Note: you may need to restart the kernel to use updated packages.\n"
     ]
    }
   ],
   "source": [
    "pip install transformers torch pandas --upgrade"
   ]
  },
  {
   "cell_type": "code",
   "execution_count": 2,
   "metadata": {},
   "outputs": [
    {
     "name": "stderr",
     "output_type": "stream",
     "text": [
      "/Users/jaehyoyi/anaconda3/lib/python3.11/site-packages/pandas/core/arrays/masked.py:60: UserWarning: Pandas requires version '1.3.6' or newer of 'bottleneck' (version '1.3.5' currently installed).\n",
      "  from pandas.core import (\n"
     ]
    }
   ],
   "source": [
    "import pandas as pd"
   ]
  },
  {
   "cell_type": "code",
   "execution_count": 3,
   "metadata": {},
   "outputs": [],
   "source": [
    "# Load your dataset\n",
    "df = pd.read_csv(\"/Users/jaehyoyi/Desktop/인화원/MORAL_EMOTION/Moral-Emotion/data/train.csv\")\n",
    "\n",
    "# Assume the text column is named 'text'\n",
    "#texts = df['text'].tolist()"
   ]
  },
  {
   "cell_type": "code",
   "execution_count": 20,
   "metadata": {},
   "outputs": [
    {
     "name": "stdout",
     "output_type": "stream",
     "text": [
      "Found existing installation: transformers 4.43.3\n",
      "Uninstalling transformers-4.43.3:\n",
      "  Successfully uninstalled transformers-4.43.3\n",
      "\n",
      "Usage:   \n",
      "  pip install [options] <requirement specifier> [package-index-options] ...\n",
      "  pip install [options] -r <requirements file> [package-index-options] ...\n",
      "  pip install [options] [-e] <vcs project url> ...\n",
      "  pip install [options] [-e] <local project path> ...\n",
      "  pip install [options] <archive url/path> ...\n",
      "\n",
      "no such option: -y\n"
     ]
    }
   ],
   "source": [
    "!pip uninstall transformers -y\n",
    "!pip install transformers -y"
   ]
  },
  {
   "cell_type": "code",
   "execution_count": 7,
   "metadata": {},
   "outputs": [],
   "source": [
    "#Code for predicted label\n",
    "\n",
    "import pandas as pd\n",
    "import torch\n",
    "from transformers import AutoTokenizer, AutoModelForSequenceClassification\n",
    "\n",
    "# Load dataset\n",
    "file_path = \"/Users/jaehyoyi/Desktop/인화원/MORAL_EMOTION/Moral-Emotion/data/train.csv\"\n",
    "df = pd.read_csv(file_path)\n",
    "\n",
    "# Select the first 500 rows\n",
    "df = df.head(500)\n",
    "\n",
    "# Load pre-trained model and tokenizer\n",
    "model_name = \"Chaeyoon/BERT-Moral-Emotion-KOR\"\n",
    "tokenizer = AutoTokenizer.from_pretrained(model_name)\n",
    "model = AutoModelForSequenceClassification.from_pretrained(model_name)\n",
    "\n",
    "# Preprocess the data\n",
    "def preprocess_function(text):\n",
    "    return tokenizer(text, return_tensors='pt', padding=True, truncation=True)\n",
    "\n",
    "df['inputs'] = df['tokens'].apply(lambda x: preprocess_function(str(x)))\n",
    "\n",
    "# Make predictions\n",
    "def predict(inputs):\n",
    "    inputs = {k: v.to(torch.device('cpu')) for k, v in inputs.items()}\n",
    "    with torch.no_grad():\n",
    "        outputs = model(**inputs)\n",
    "        logits = outputs.logits\n",
    "        predictions = torch.argmax(logits, dim=-1)\n",
    "    return predictions.cpu().numpy()\n",
    "\n",
    "df['predictions'] = df['inputs'].apply(lambda x: predict(x))\n",
    "\n",
    "# Save the predictions\n",
    "df.to_csv('predictions.csv', index=False)\n"
   ]
  },
  {
   "cell_type": "code",
   "execution_count": 10,
   "metadata": {},
   "outputs": [
    {
     "data": {
      "text/html": [
       "<div>\n",
       "<style scoped>\n",
       "    .dataframe tbody tr th:only-of-type {\n",
       "        vertical-align: middle;\n",
       "    }\n",
       "\n",
       "    .dataframe tbody tr th {\n",
       "        vertical-align: top;\n",
       "    }\n",
       "\n",
       "    .dataframe thead th {\n",
       "        text-align: right;\n",
       "    }\n",
       "</style>\n",
       "<table border=\"1\" class=\"dataframe\">\n",
       "  <thead>\n",
       "    <tr style=\"text-align: right;\">\n",
       "      <th></th>\n",
       "      <th>Non-Moral-Emotion</th>\n",
       "      <th>Neutral</th>\n",
       "      <th>Other-Suffering</th>\n",
       "      <th>Other-Praising</th>\n",
       "      <th>Other-Condemning</th>\n",
       "      <th>Self-Conscious</th>\n",
       "      <th>tokens</th>\n",
       "    </tr>\n",
       "  </thead>\n",
       "  <tbody>\n",
       "    <tr>\n",
       "      <th>0</th>\n",
       "      <td>0.000579</td>\n",
       "      <td>0.000106</td>\n",
       "      <td>0.000297</td>\n",
       "      <td>0.000161</td>\n",
       "      <td>0.000192</td>\n",
       "      <td>0.998664</td>\n",
       "      <td>@user 왱 ? ? 원래 모든 아빠는 딸의 것 아님 ? ?</td>\n",
       "    </tr>\n",
       "    <tr>\n",
       "      <th>1</th>\n",
       "      <td>0.998722</td>\n",
       "      <td>0.000198</td>\n",
       "      <td>0.000258</td>\n",
       "      <td>0.000422</td>\n",
       "      <td>0.000329</td>\n",
       "      <td>0.000071</td>\n",
       "      <td>@user 아덴트님도 해피 병신ㄴ ... !</td>\n",
       "    </tr>\n",
       "    <tr>\n",
       "      <th>2</th>\n",
       "      <td>0.000048</td>\n",
       "      <td>0.000046</td>\n",
       "      <td>0.000062</td>\n",
       "      <td>0.000063</td>\n",
       "      <td>0.000110</td>\n",
       "      <td>0.999671</td>\n",
       "      <td>썰렁</td>\n",
       "    </tr>\n",
       "    <tr>\n",
       "      <th>3</th>\n",
       "      <td>0.999597</td>\n",
       "      <td>0.000077</td>\n",
       "      <td>0.000073</td>\n",
       "      <td>0.000073</td>\n",
       "      <td>0.000116</td>\n",
       "      <td>0.000064</td>\n",
       "      <td>진짜 겁나 막장이야ㅋㅋㅋ학생도 선생도 다ㅋㅋㅋ떠들어놓고 내가 뭘했냐면서 지랄하는 학...</td>\n",
       "    </tr>\n",
       "    <tr>\n",
       "      <th>4</th>\n",
       "      <td>0.000343</td>\n",
       "      <td>0.000461</td>\n",
       "      <td>0.000274</td>\n",
       "      <td>0.000227</td>\n",
       "      <td>0.998569</td>\n",
       "      <td>0.000127</td>\n",
       "      <td>@user @user 마르언니가 졸리다뇨 ? 악몽의 환영 스킬이 모니터를 뚫는거신가...</td>\n",
       "    </tr>\n",
       "  </tbody>\n",
       "</table>\n",
       "</div>"
      ],
      "text/plain": [
       "   Non-Moral-Emotion   Neutral  Other-Suffering  Other-Praising  \\\n",
       "0           0.000579  0.000106         0.000297        0.000161   \n",
       "1           0.998722  0.000198         0.000258        0.000422   \n",
       "2           0.000048  0.000046         0.000062        0.000063   \n",
       "3           0.999597  0.000077         0.000073        0.000073   \n",
       "4           0.000343  0.000461         0.000274        0.000227   \n",
       "\n",
       "   Other-Condemning  Self-Conscious  \\\n",
       "0          0.000192        0.998664   \n",
       "1          0.000329        0.000071   \n",
       "2          0.000110        0.999671   \n",
       "3          0.000116        0.000064   \n",
       "4          0.998569        0.000127   \n",
       "\n",
       "                                              tokens  \n",
       "0                 @user 왱 ? ? 원래 모든 아빠는 딸의 것 아님 ? ?   \n",
       "1                          @user 아덴트님도 해피 병신ㄴ ... !   \n",
       "2                                                 썰렁  \n",
       "3  진짜 겁나 막장이야ㅋㅋㅋ학생도 선생도 다ㅋㅋㅋ떠들어놓고 내가 뭘했냐면서 지랄하는 학...  \n",
       "4  @user @user 마르언니가 졸리다뇨 ? 악몽의 환영 스킬이 모니터를 뚫는거신가...  "
      ]
     },
     "execution_count": 10,
     "metadata": {},
     "output_type": "execute_result"
    }
   ],
   "source": [
    "#Code for Probability for MORAL emotion\n",
    "import pandas as pd\n",
    "import torch\n",
    "from transformers import AutoTokenizer, AutoModelForSequenceClassification\n",
    "import torch.nn.functional as F\n",
    "\n",
    "# Load dataset\n",
    "file_path = \"/Users/jaehyoyi/Desktop/인화원/MORAL_EMOTION/Moral-Emotion/data/train.csv\"\n",
    "df = pd.read_csv(file_path)\n",
    "\n",
    "# Select the first 1000 rows\n",
    "df = df.head(1000)\n",
    "\n",
    "# Load pre-trained model and tokenizer\n",
    "model_name = \"Chaeyoon/BERT-Moral-Emotion-KOR\"\n",
    "tokenizer = AutoTokenizer.from_pretrained(model_name)\n",
    "model = AutoModelForSequenceClassification.from_pretrained(model_name)\n",
    "\n",
    "# Preprocess the data\n",
    "def preprocess_function(text):\n",
    "    return tokenizer(text, return_tensors='pt', padding=True, truncation=True)\n",
    "\n",
    "df['inputs'] = df['tokens'].apply(lambda x: preprocess_function(str(x)))\n",
    "\n",
    "# Make predictions and get probabilities\n",
    "def predict(inputs):\n",
    "    inputs = {k: v.to(torch.device('cpu')) for k, v in inputs.items()}\n",
    "    with torch.no_grad():\n",
    "        outputs = model(**inputs)\n",
    "        logits = outputs.logits\n",
    "        probabilities = F.softmax(logits, dim=-1).cpu().numpy()\n",
    "    return probabilities\n",
    "\n",
    "df['predictions'] = df['inputs'].apply(lambda x: predict(x).squeeze(0))\n",
    "\n",
    "# Create a DataFrame with probabilities\n",
    "probabilities_df = pd.DataFrame(df['predictions'].tolist(), columns=[\n",
    "    'Non-Moral-Emotion', 'Neutral', 'Other-Suffering', 'Other-Praising', 'Other-Condemning', 'Self-Conscious'])\n",
    "\n",
    "# Add the original text column to the output DataFrame\n",
    "probabilities_df['tokens'] = df['tokens'].values\n",
    "\n",
    "# Save the probabilities to a CSV file\n",
    "probabilities_df.to_csv('predictions_probabilities.csv', index=False)\n",
    "\n",
    "# Display the first few rows of the output DataFrame\n",
    "probabilities_df.head()\n"
   ]
  },
  {
   "cell_type": "code",
   "execution_count": null,
   "metadata": {},
   "outputs": [],
   "source": [
    "#code for historgram of the distribution of the emotions\n"
   ]
  }
 ],
 "metadata": {
  "kernelspec": {
   "display_name": "mypycaret",
   "language": "python",
   "name": "python3"
  },
  "language_info": {
   "codemirror_mode": {
    "name": "ipython",
    "version": 3
   },
   "file_extension": ".py",
   "mimetype": "text/x-python",
   "name": "python",
   "nbconvert_exporter": "python",
   "pygments_lexer": "ipython3",
   "version": "3.11.4"
  }
 },
 "nbformat": 4,
 "nbformat_minor": 2
}
